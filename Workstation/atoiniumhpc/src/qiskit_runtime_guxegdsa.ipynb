{
 "cells": [
  {
   "cell_type": "code",
   "execution_count": 5,
   "metadata": {},
   "outputs": [
    {
     "name": "stdout",
     "output_type": "stream",
     "text": [
      "PrimitiveResult([PubResult(data=DataBin(meas=BitArray(<shape=(), num_shots=4096, num_bits=2>)), metadata={'circuit_metadata': {}})], metadata={'execution': {'execution_spans': ExecutionSpans([SliceSpan(<start='2024-10-03 07:21:40', stop='2024-10-03 07:25:47', size=4096>)])}, 'version': 2})\n"
     ]
    }
   ],
   "source": [
    "from qiskit_ibm_runtime import QiskitRuntimeService\n",
    "import pandas as pd\n",
    "import nbformat\n",
    "from nbconvert import PythonExporter\n",
    "from IPython import get_ipython\n",
    "\n",
    "# Replace 'your_ibm_quantum_api_token' with your actual IBM Quantum API token\n",
    "token = 'f82db6715ce343b1c8655d88a610c8c159ae0afa414de90ed719396051c330dc2ddfb7f0a2d89880633d1b8a8cdfcd2a6723ab9e2cd5f380c920b451d30320c2'\n",
    "\n",
    "# Initialize the Qiskit Runtime Service\n",
    "service = QiskitRuntimeService(\n",
    "    channel='ibm_quantum',\n",
    "    instance='ibm-q/open/main',\n",
    "    token=token\n",
    ")\n",
    "\n",
    "# Retrieve a job by its ID\n",
    "job_id = 'cvz3tzvvd9q0008y8ee0'\n",
    "job = service.job(job_id)\n",
    "\n",
    "# Get the job result\n",
    "job_result = job.result()\n",
    "\n",
    "# Example: Print the job result\n",
    "print(job_result)\n",
    "\n",
    "# Load the patient data file\n",
    "#patient_data = pd.read_csv('path/to/your/patient_data.csv')  # Specify the correct file path\n",
    "\n",
    "# Process the data as needed\n",
    "#print(patient_data.head())\n",
    "\n",
    "# Load the therapeutics notebook\n",
    "#with open(\"notebooks_therapeutics.ipynb\") as f:\n",
    "#    nb = nbformat.read(f, as_version=4)\n",
    "\n",
    "# Convert the notebook to a Python script\n",
    "#exporter = PythonExporter()\n",
    "#source, _ = exporter.from_notebook_node(nb)\n",
    "\n",
    "# Execute the Python script\n",
    "#exec(source, globals())"
   ]
  }
 ],
 "metadata": {
  "kernelspec": {
   "display_name": "qiskit-env",
   "language": "python",
   "name": "python3"
  },
  "language_info": {
   "codemirror_mode": {
    "name": "ipython",
    "version": 3
   },
   "file_extension": ".py",
   "mimetype": "text/x-python",
   "name": "python",
   "nbconvert_exporter": "python",
   "pygments_lexer": "ipython3",
   "version": "3.9.20"
  }
 },
 "nbformat": 4,
 "nbformat_minor": 2
}
